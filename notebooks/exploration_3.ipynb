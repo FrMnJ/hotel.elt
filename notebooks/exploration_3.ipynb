{
 "cells": [
  {
   "cell_type": "code",
   "execution_count": 1,
   "metadata": {},
   "outputs": [],
   "source": [
    "import pandas as pd\n",
    "import seaborn as sns\n",
    "import matplotlib.pyplot as plt"
   ]
  },
  {
   "cell_type": "code",
   "execution_count": 2,
   "metadata": {},
   "outputs": [
    {
     "data": {
      "text/html": [
       "<div>\n",
       "<style scoped>\n",
       "    .dataframe tbody tr th:only-of-type {\n",
       "        vertical-align: middle;\n",
       "    }\n",
       "\n",
       "    .dataframe tbody tr th {\n",
       "        vertical-align: top;\n",
       "    }\n",
       "\n",
       "    .dataframe thead th {\n",
       "        text-align: right;\n",
       "    }\n",
       "</style>\n",
       "<table border=\"1\" class=\"dataframe\">\n",
       "  <thead>\n",
       "    <tr style=\"text-align: right;\">\n",
       "      <th></th>\n",
       "      <th>adr</th>\n",
       "      <th>adults</th>\n",
       "      <th>agent</th>\n",
       "      <th>arrival_date_day_of_month</th>\n",
       "      <th>arrival_date_month</th>\n",
       "      <th>arrival_date_week_number</th>\n",
       "      <th>arrival_date_year</th>\n",
       "      <th>assigned_room_type</th>\n",
       "      <th>babies</th>\n",
       "      <th>booking_changes</th>\n",
       "      <th>...</th>\n",
       "      <th>meal</th>\n",
       "      <th>previous_bookings_not_canceled</th>\n",
       "      <th>previous_cancellations</th>\n",
       "      <th>required_card_parking_spaces</th>\n",
       "      <th>reservation_status</th>\n",
       "      <th>reservation_status_date</th>\n",
       "      <th>reserved_room_type</th>\n",
       "      <th>stays_in_weekend_nights</th>\n",
       "      <th>stays_in_week_nights</th>\n",
       "      <th>total_of_special_requests</th>\n",
       "    </tr>\n",
       "  </thead>\n",
       "  <tbody>\n",
       "    <tr>\n",
       "      <th>0</th>\n",
       "      <td>160.20</td>\n",
       "      <td>2</td>\n",
       "      <td>378</td>\n",
       "      <td>1</td>\n",
       "      <td>May</td>\n",
       "      <td>7</td>\n",
       "      <td>2024</td>\n",
       "      <td>A</td>\n",
       "      <td>2</td>\n",
       "      <td>3</td>\n",
       "      <td>...</td>\n",
       "      <td>FB</td>\n",
       "      <td>0</td>\n",
       "      <td>1</td>\n",
       "      <td>2</td>\n",
       "      <td>Check-Out</td>\n",
       "      <td>1718236800000</td>\n",
       "      <td>B</td>\n",
       "      <td>2</td>\n",
       "      <td>1</td>\n",
       "      <td>1</td>\n",
       "    </tr>\n",
       "    <tr>\n",
       "      <th>1</th>\n",
       "      <td>220.97</td>\n",
       "      <td>3</td>\n",
       "      <td>434</td>\n",
       "      <td>11</td>\n",
       "      <td>February</td>\n",
       "      <td>23</td>\n",
       "      <td>2022</td>\n",
       "      <td>C</td>\n",
       "      <td>0</td>\n",
       "      <td>5</td>\n",
       "      <td>...</td>\n",
       "      <td>HB</td>\n",
       "      <td>4</td>\n",
       "      <td>0</td>\n",
       "      <td>0</td>\n",
       "      <td>Canceled</td>\n",
       "      <td>1647820800000</td>\n",
       "      <td>B</td>\n",
       "      <td>2</td>\n",
       "      <td>3</td>\n",
       "      <td>2</td>\n",
       "    </tr>\n",
       "    <tr>\n",
       "      <th>2</th>\n",
       "      <td>170.14</td>\n",
       "      <td>1</td>\n",
       "      <td>312</td>\n",
       "      <td>12</td>\n",
       "      <td>November</td>\n",
       "      <td>41</td>\n",
       "      <td>2022</td>\n",
       "      <td>B</td>\n",
       "      <td>2</td>\n",
       "      <td>5</td>\n",
       "      <td>...</td>\n",
       "      <td>FB</td>\n",
       "      <td>6</td>\n",
       "      <td>2</td>\n",
       "      <td>0</td>\n",
       "      <td>Canceled</td>\n",
       "      <td>1705104000000</td>\n",
       "      <td>C</td>\n",
       "      <td>2</td>\n",
       "      <td>1</td>\n",
       "      <td>3</td>\n",
       "    </tr>\n",
       "    <tr>\n",
       "      <th>3</th>\n",
       "      <td>114.29</td>\n",
       "      <td>2</td>\n",
       "      <td>127</td>\n",
       "      <td>30</td>\n",
       "      <td>August</td>\n",
       "      <td>48</td>\n",
       "      <td>2024</td>\n",
       "      <td>C</td>\n",
       "      <td>2</td>\n",
       "      <td>4</td>\n",
       "      <td>...</td>\n",
       "      <td>HB</td>\n",
       "      <td>10</td>\n",
       "      <td>3</td>\n",
       "      <td>2</td>\n",
       "      <td>Canceled</td>\n",
       "      <td>1729036800000</td>\n",
       "      <td>B</td>\n",
       "      <td>3</td>\n",
       "      <td>4</td>\n",
       "      <td>3</td>\n",
       "    </tr>\n",
       "    <tr>\n",
       "      <th>4</th>\n",
       "      <td>374.32</td>\n",
       "      <td>5</td>\n",
       "      <td>385</td>\n",
       "      <td>18</td>\n",
       "      <td>November</td>\n",
       "      <td>18</td>\n",
       "      <td>2022</td>\n",
       "      <td>C</td>\n",
       "      <td>0</td>\n",
       "      <td>2</td>\n",
       "      <td>...</td>\n",
       "      <td>HB</td>\n",
       "      <td>2</td>\n",
       "      <td>2</td>\n",
       "      <td>0</td>\n",
       "      <td>No-Show</td>\n",
       "      <td>1683676800000</td>\n",
       "      <td>C</td>\n",
       "      <td>0</td>\n",
       "      <td>4</td>\n",
       "      <td>2</td>\n",
       "    </tr>\n",
       "  </tbody>\n",
       "</table>\n",
       "<p>5 rows × 32 columns</p>\n",
       "</div>"
      ],
      "text/plain": [
       "      adr  adults  agent  arrival_date_day_of_month arrival_date_month  \\\n",
       "0  160.20       2    378                          1                May   \n",
       "1  220.97       3    434                         11           February   \n",
       "2  170.14       1    312                         12           November   \n",
       "3  114.29       2    127                         30             August   \n",
       "4  374.32       5    385                         18           November   \n",
       "\n",
       "   arrival_date_week_number  arrival_date_year assigned_room_type  babies  \\\n",
       "0                         7               2024                  A       2   \n",
       "1                        23               2022                  C       0   \n",
       "2                        41               2022                  B       2   \n",
       "3                        48               2024                  C       2   \n",
       "4                        18               2022                  C       0   \n",
       "\n",
       "   booking_changes  ...  meal  previous_bookings_not_canceled  \\\n",
       "0                3  ...    FB                               0   \n",
       "1                5  ...    HB                               4   \n",
       "2                5  ...    FB                               6   \n",
       "3                4  ...    HB                              10   \n",
       "4                2  ...    HB                               2   \n",
       "\n",
       "  previous_cancellations required_card_parking_spaces  reservation_status  \\\n",
       "0                      1                            2           Check-Out   \n",
       "1                      0                            0            Canceled   \n",
       "2                      2                            0            Canceled   \n",
       "3                      3                            2            Canceled   \n",
       "4                      2                            0             No-Show   \n",
       "\n",
       "  reservation_status_date reserved_room_type stays_in_weekend_nights  \\\n",
       "0           1718236800000                  B                       2   \n",
       "1           1647820800000                  B                       2   \n",
       "2           1705104000000                  C                       2   \n",
       "3           1729036800000                  B                       3   \n",
       "4           1683676800000                  C                       0   \n",
       "\n",
       "   stays_in_week_nights  total_of_special_requests  \n",
       "0                     1                          1  \n",
       "1                     3                          2  \n",
       "2                     1                          3  \n",
       "3                     4                          3  \n",
       "4                     4                          2  \n",
       "\n",
       "[5 rows x 32 columns]"
      ]
     },
     "execution_count": 2,
     "metadata": {},
     "output_type": "execute_result"
    }
   ],
   "source": [
    "df = pd.read_json(\"../datasets/hotel_bookings_data.json\")\n",
    "df.head(5)"
   ]
  },
  {
   "cell_type": "markdown",
   "metadata": {},
   "source": [
    "# Limpieza\n",
    "\n",
    "No hay filas duplicadas\n",
    "\n",
    "- **adr**: Elminar valores nulos\n",
    "- **adults**: No necesita limpieza\n",
    "- **agent**: No necesita limpieza\n",
    "- **arrival_date_day_of_month**: No necesita limpieza\n",
    "- **arrival_date_month**: Eliminar INVALID_MONTH\n",
    "- **arrival_date_week_number**: No necesita limpieza\n",
    "- **arrival_date_year**: No necesita limpieza\n",
    "- **assigned_room_type**: Eliminar valores XX\n",
    "- **babies**: No necesita limpieza\n",
    "- **booking_changes**: No necesita limpieza\n",
    "- **children**: No necesita limpieza\n",
    "- **company**: Eliminar fila/Eliminar valores nulos\n",
    "- **country**: Eliminar INVALID_COUNTRY\n",
    "- **customer_type**:No necesita limpieza\n",
    "- **days_in_waiting_list**: No necesita limpieza\n",
    "- **deposit_type**: Eliminar UNKNOWN\n",
    "- **distribution_channel**: No necesita limpieza\n",
    "- **hotel**: No necesita limpieza\n",
    "- **is_canceled**: No necesita limpieza\n",
    "- **is_repeated_guest**: No necesita limpieza\n",
    "- **lead_time**: Reemplazar valores arriba del promedio por el promedio\n",
    "- **market_segment**: No necesita limpieza\n",
    "- **meal**: No necesita limpieza\n",
    "- **previous_bookings_not_canceled**: No necesita limpieza\n",
    "- **previous_cancellations**: No necesita limpieza\n",
    "- **required_card_parking_spaces**: No necesita limpieza\n",
    "- **reservation_status**: No necesita limpieza\n",
    "- **reservation_status_date**: Transformar marcas de tiempo a fechas yyyy-mm-dd\n",
    "- **reserved_room_type**: No necesita limpieza\n",
    "- **stays_in_weekend_nights**: No necesita limpieza\n",
    "- **stays_in_week_nights**: No necesita limpieza\n",
    "- **total_of_special_requests**: No necesita limpieza"
   ]
  },
  {
   "cell_type": "code",
   "execution_count": 51,
   "metadata": {},
   "outputs": [
    {
     "name": "stdout",
     "output_type": "stream",
     "text": [
      "<class 'pandas.core.frame.DataFrame'>\n",
      "RangeIndex: 25000 entries, 0 to 24999\n",
      "Data columns (total 32 columns):\n",
      " #   Column                          Non-Null Count  Dtype  \n",
      "---  ------                          --------------  -----  \n",
      " 0   adr                             22463 non-null  float64\n",
      " 1   adults                          25000 non-null  int64  \n",
      " 2   agent                           25000 non-null  int64  \n",
      " 3   arrival_date_day_of_month       25000 non-null  int64  \n",
      " 4   arrival_date_month              25000 non-null  object \n",
      " 5   arrival_date_week_number        25000 non-null  int64  \n",
      " 6   arrival_date_year               25000 non-null  int64  \n",
      " 7   assigned_room_type              25000 non-null  object \n",
      " 8   babies                          25000 non-null  int64  \n",
      " 9   booking_changes                 25000 non-null  int64  \n",
      " 10  children                        25000 non-null  int64  \n",
      " 11  company                         22463 non-null  float64\n",
      " 12  country                         25000 non-null  object \n",
      " 13  customer_type                   25000 non-null  object \n",
      " 14  days_in_waiting_list            25000 non-null  int64  \n",
      " 15  deposit_type                    25000 non-null  object \n",
      " 16  distribution_channel            25000 non-null  object \n",
      " 17  hotel                           25000 non-null  object \n",
      " 18  is_canceled                     25000 non-null  int64  \n",
      " 19  is_repeated_guest               25000 non-null  int64  \n",
      " 20  lead_time                       25000 non-null  int64  \n",
      " 21  market_segment                  25000 non-null  object \n",
      " 22  meal                            25000 non-null  object \n",
      " 23  previous_bookings_not_canceled  25000 non-null  int64  \n",
      " 24  previous_cancellations          25000 non-null  int64  \n",
      " 25  required_card_parking_spaces    25000 non-null  int64  \n",
      " 26  reservation_status              25000 non-null  object \n",
      " 27  reservation_status_date         25000 non-null  int64  \n",
      " 28  reserved_room_type              25000 non-null  object \n",
      " 29  stays_in_weekend_nights         25000 non-null  int64  \n",
      " 30  stays_in_week_nights            25000 non-null  int64  \n",
      " 31  total_of_special_requests       25000 non-null  int64  \n",
      "dtypes: float64(2), int64(19), object(11)\n",
      "memory usage: 6.1+ MB\n"
     ]
    }
   ],
   "source": [
    "df.info()"
   ]
  },
  {
   "cell_type": "code",
   "execution_count": 52,
   "metadata": {},
   "outputs": [
    {
     "name": "stdout",
     "output_type": "stream",
     "text": [
      "Size of the dataset: 25000\n"
     ]
    }
   ],
   "source": [
    "print(f\"Size of the dataset: {len(df)}\")"
   ]
  },
  {
   "cell_type": "code",
   "execution_count": 53,
   "metadata": {},
   "outputs": [
    {
     "data": {
      "text/html": [
       "<div>\n",
       "<style scoped>\n",
       "    .dataframe tbody tr th:only-of-type {\n",
       "        vertical-align: middle;\n",
       "    }\n",
       "\n",
       "    .dataframe tbody tr th {\n",
       "        vertical-align: top;\n",
       "    }\n",
       "\n",
       "    .dataframe thead th {\n",
       "        text-align: right;\n",
       "    }\n",
       "</style>\n",
       "<table border=\"1\" class=\"dataframe\">\n",
       "  <thead>\n",
       "    <tr style=\"text-align: right;\">\n",
       "      <th></th>\n",
       "      <th>adr</th>\n",
       "      <th>adults</th>\n",
       "      <th>agent</th>\n",
       "      <th>arrival_date_day_of_month</th>\n",
       "      <th>arrival_date_week_number</th>\n",
       "      <th>arrival_date_year</th>\n",
       "      <th>babies</th>\n",
       "      <th>booking_changes</th>\n",
       "      <th>children</th>\n",
       "      <th>company</th>\n",
       "      <th>...</th>\n",
       "      <th>is_canceled</th>\n",
       "      <th>is_repeated_guest</th>\n",
       "      <th>lead_time</th>\n",
       "      <th>previous_bookings_not_canceled</th>\n",
       "      <th>previous_cancellations</th>\n",
       "      <th>required_card_parking_spaces</th>\n",
       "      <th>reservation_status_date</th>\n",
       "      <th>stays_in_weekend_nights</th>\n",
       "      <th>stays_in_week_nights</th>\n",
       "      <th>total_of_special_requests</th>\n",
       "    </tr>\n",
       "  </thead>\n",
       "  <tbody>\n",
       "    <tr>\n",
       "      <th>count</th>\n",
       "      <td>22463.000000</td>\n",
       "      <td>25000.00000</td>\n",
       "      <td>25000.000000</td>\n",
       "      <td>25000.00000</td>\n",
       "      <td>25000.000000</td>\n",
       "      <td>25000.000000</td>\n",
       "      <td>25000.000000</td>\n",
       "      <td>25000.000000</td>\n",
       "      <td>25000.00000</td>\n",
       "      <td>22463.000000</td>\n",
       "      <td>...</td>\n",
       "      <td>25000.000000</td>\n",
       "      <td>25000.000000</td>\n",
       "      <td>25000.000000</td>\n",
       "      <td>25000.000000</td>\n",
       "      <td>25000.000000</td>\n",
       "      <td>25000.000000</td>\n",
       "      <td>2.500000e+04</td>\n",
       "      <td>25000.000000</td>\n",
       "      <td>25000.000000</td>\n",
       "      <td>25000.000000</td>\n",
       "    </tr>\n",
       "    <tr>\n",
       "      <th>mean</th>\n",
       "      <td>274.925900</td>\n",
       "      <td>2.99736</td>\n",
       "      <td>251.536400</td>\n",
       "      <td>15.85612</td>\n",
       "      <td>26.485760</td>\n",
       "      <td>2023.012720</td>\n",
       "      <td>0.993560</td>\n",
       "      <td>2.520200</td>\n",
       "      <td>1.49696</td>\n",
       "      <td>50.360103</td>\n",
       "      <td>...</td>\n",
       "      <td>0.497360</td>\n",
       "      <td>0.504160</td>\n",
       "      <td>182.120040</td>\n",
       "      <td>4.959880</td>\n",
       "      <td>2.499880</td>\n",
       "      <td>1.002280</td>\n",
       "      <td>1.711411e+12</td>\n",
       "      <td>1.490080</td>\n",
       "      <td>2.490680</td>\n",
       "      <td>1.492840</td>\n",
       "    </tr>\n",
       "    <tr>\n",
       "      <th>std</th>\n",
       "      <td>129.312421</td>\n",
       "      <td>1.41223</td>\n",
       "      <td>144.190365</td>\n",
       "      <td>8.86783</td>\n",
       "      <td>15.114157</td>\n",
       "      <td>0.816446</td>\n",
       "      <td>0.814926</td>\n",
       "      <td>1.706115</td>\n",
       "      <td>1.11866</td>\n",
       "      <td>28.867162</td>\n",
       "      <td>...</td>\n",
       "      <td>0.500003</td>\n",
       "      <td>0.499993</td>\n",
       "      <td>105.702709</td>\n",
       "      <td>3.162978</td>\n",
       "      <td>1.701257</td>\n",
       "      <td>0.817888</td>\n",
       "      <td>2.112691e+10</td>\n",
       "      <td>1.114572</td>\n",
       "      <td>1.701984</td>\n",
       "      <td>1.113121</td>\n",
       "    </tr>\n",
       "    <tr>\n",
       "      <th>min</th>\n",
       "      <td>50.020000</td>\n",
       "      <td>1.00000</td>\n",
       "      <td>1.000000</td>\n",
       "      <td>1.00000</td>\n",
       "      <td>1.000000</td>\n",
       "      <td>2022.000000</td>\n",
       "      <td>0.000000</td>\n",
       "      <td>0.000000</td>\n",
       "      <td>0.00000</td>\n",
       "      <td>1.000000</td>\n",
       "      <td>...</td>\n",
       "      <td>0.000000</td>\n",
       "      <td>0.000000</td>\n",
       "      <td>0.000000</td>\n",
       "      <td>0.000000</td>\n",
       "      <td>0.000000</td>\n",
       "      <td>0.000000</td>\n",
       "      <td>1.641686e+12</td>\n",
       "      <td>0.000000</td>\n",
       "      <td>0.000000</td>\n",
       "      <td>0.000000</td>\n",
       "    </tr>\n",
       "    <tr>\n",
       "      <th>25%</th>\n",
       "      <td>163.925000</td>\n",
       "      <td>2.00000</td>\n",
       "      <td>126.000000</td>\n",
       "      <td>8.00000</td>\n",
       "      <td>13.000000</td>\n",
       "      <td>2022.000000</td>\n",
       "      <td>0.000000</td>\n",
       "      <td>1.000000</td>\n",
       "      <td>0.00000</td>\n",
       "      <td>26.000000</td>\n",
       "      <td>...</td>\n",
       "      <td>0.000000</td>\n",
       "      <td>0.000000</td>\n",
       "      <td>91.000000</td>\n",
       "      <td>2.000000</td>\n",
       "      <td>1.000000</td>\n",
       "      <td>0.000000</td>\n",
       "      <td>1.699142e+12</td>\n",
       "      <td>0.000000</td>\n",
       "      <td>1.000000</td>\n",
       "      <td>1.000000</td>\n",
       "    </tr>\n",
       "    <tr>\n",
       "      <th>50%</th>\n",
       "      <td>274.730000</td>\n",
       "      <td>3.00000</td>\n",
       "      <td>251.000000</td>\n",
       "      <td>16.00000</td>\n",
       "      <td>27.000000</td>\n",
       "      <td>2023.000000</td>\n",
       "      <td>1.000000</td>\n",
       "      <td>3.000000</td>\n",
       "      <td>1.00000</td>\n",
       "      <td>50.000000</td>\n",
       "      <td>...</td>\n",
       "      <td>0.000000</td>\n",
       "      <td>1.000000</td>\n",
       "      <td>182.000000</td>\n",
       "      <td>5.000000</td>\n",
       "      <td>3.000000</td>\n",
       "      <td>1.000000</td>\n",
       "      <td>1.717459e+12</td>\n",
       "      <td>1.000000</td>\n",
       "      <td>2.000000</td>\n",
       "      <td>1.000000</td>\n",
       "    </tr>\n",
       "    <tr>\n",
       "      <th>75%</th>\n",
       "      <td>385.595000</td>\n",
       "      <td>4.00000</td>\n",
       "      <td>378.000000</td>\n",
       "      <td>24.00000</td>\n",
       "      <td>40.000000</td>\n",
       "      <td>2024.000000</td>\n",
       "      <td>2.000000</td>\n",
       "      <td>4.000000</td>\n",
       "      <td>2.00000</td>\n",
       "      <td>75.000000</td>\n",
       "      <td>...</td>\n",
       "      <td>1.000000</td>\n",
       "      <td>1.000000</td>\n",
       "      <td>274.000000</td>\n",
       "      <td>8.000000</td>\n",
       "      <td>4.000000</td>\n",
       "      <td>2.000000</td>\n",
       "      <td>1.728691e+12</td>\n",
       "      <td>2.000000</td>\n",
       "      <td>4.000000</td>\n",
       "      <td>2.000000</td>\n",
       "    </tr>\n",
       "    <tr>\n",
       "      <th>max</th>\n",
       "      <td>499.990000</td>\n",
       "      <td>5.00000</td>\n",
       "      <td>500.000000</td>\n",
       "      <td>31.00000</td>\n",
       "      <td>52.000000</td>\n",
       "      <td>2024.000000</td>\n",
       "      <td>2.000000</td>\n",
       "      <td>5.000000</td>\n",
       "      <td>3.00000</td>\n",
       "      <td>100.000000</td>\n",
       "      <td>...</td>\n",
       "      <td>1.000000</td>\n",
       "      <td>1.000000</td>\n",
       "      <td>365.000000</td>\n",
       "      <td>10.000000</td>\n",
       "      <td>5.000000</td>\n",
       "      <td>2.000000</td>\n",
       "      <td>1.735603e+12</td>\n",
       "      <td>3.000000</td>\n",
       "      <td>5.000000</td>\n",
       "      <td>3.000000</td>\n",
       "    </tr>\n",
       "  </tbody>\n",
       "</table>\n",
       "<p>8 rows × 21 columns</p>\n",
       "</div>"
      ],
      "text/plain": [
       "                adr       adults         agent  arrival_date_day_of_month  \\\n",
       "count  22463.000000  25000.00000  25000.000000                25000.00000   \n",
       "mean     274.925900      2.99736    251.536400                   15.85612   \n",
       "std      129.312421      1.41223    144.190365                    8.86783   \n",
       "min       50.020000      1.00000      1.000000                    1.00000   \n",
       "25%      163.925000      2.00000    126.000000                    8.00000   \n",
       "50%      274.730000      3.00000    251.000000                   16.00000   \n",
       "75%      385.595000      4.00000    378.000000                   24.00000   \n",
       "max      499.990000      5.00000    500.000000                   31.00000   \n",
       "\n",
       "       arrival_date_week_number  arrival_date_year        babies  \\\n",
       "count              25000.000000       25000.000000  25000.000000   \n",
       "mean                  26.485760        2023.012720      0.993560   \n",
       "std                   15.114157           0.816446      0.814926   \n",
       "min                    1.000000        2022.000000      0.000000   \n",
       "25%                   13.000000        2022.000000      0.000000   \n",
       "50%                   27.000000        2023.000000      1.000000   \n",
       "75%                   40.000000        2024.000000      2.000000   \n",
       "max                   52.000000        2024.000000      2.000000   \n",
       "\n",
       "       booking_changes     children       company  ...   is_canceled  \\\n",
       "count     25000.000000  25000.00000  22463.000000  ...  25000.000000   \n",
       "mean          2.520200      1.49696     50.360103  ...      0.497360   \n",
       "std           1.706115      1.11866     28.867162  ...      0.500003   \n",
       "min           0.000000      0.00000      1.000000  ...      0.000000   \n",
       "25%           1.000000      0.00000     26.000000  ...      0.000000   \n",
       "50%           3.000000      1.00000     50.000000  ...      0.000000   \n",
       "75%           4.000000      2.00000     75.000000  ...      1.000000   \n",
       "max           5.000000      3.00000    100.000000  ...      1.000000   \n",
       "\n",
       "       is_repeated_guest     lead_time  previous_bookings_not_canceled  \\\n",
       "count       25000.000000  25000.000000                    25000.000000   \n",
       "mean            0.504160    182.120040                        4.959880   \n",
       "std             0.499993    105.702709                        3.162978   \n",
       "min             0.000000      0.000000                        0.000000   \n",
       "25%             0.000000     91.000000                        2.000000   \n",
       "50%             1.000000    182.000000                        5.000000   \n",
       "75%             1.000000    274.000000                        8.000000   \n",
       "max             1.000000    365.000000                       10.000000   \n",
       "\n",
       "       previous_cancellations  required_card_parking_spaces  \\\n",
       "count            25000.000000                  25000.000000   \n",
       "mean                 2.499880                      1.002280   \n",
       "std                  1.701257                      0.817888   \n",
       "min                  0.000000                      0.000000   \n",
       "25%                  1.000000                      0.000000   \n",
       "50%                  3.000000                      1.000000   \n",
       "75%                  4.000000                      2.000000   \n",
       "max                  5.000000                      2.000000   \n",
       "\n",
       "       reservation_status_date  stays_in_weekend_nights  stays_in_week_nights  \\\n",
       "count             2.500000e+04             25000.000000          25000.000000   \n",
       "mean              1.711411e+12                 1.490080              2.490680   \n",
       "std               2.112691e+10                 1.114572              1.701984   \n",
       "min               1.641686e+12                 0.000000              0.000000   \n",
       "25%               1.699142e+12                 0.000000              1.000000   \n",
       "50%               1.717459e+12                 1.000000              2.000000   \n",
       "75%               1.728691e+12                 2.000000              4.000000   \n",
       "max               1.735603e+12                 3.000000              5.000000   \n",
       "\n",
       "       total_of_special_requests  \n",
       "count               25000.000000  \n",
       "mean                    1.492840  \n",
       "std                     1.113121  \n",
       "min                     0.000000  \n",
       "25%                     1.000000  \n",
       "50%                     1.000000  \n",
       "75%                     2.000000  \n",
       "max                     3.000000  \n",
       "\n",
       "[8 rows x 21 columns]"
      ]
     },
     "execution_count": 53,
     "metadata": {},
     "output_type": "execute_result"
    }
   ],
   "source": [
    "df.describe()"
   ]
  },
  {
   "cell_type": "code",
   "execution_count": 54,
   "metadata": {},
   "outputs": [
    {
     "data": {
      "text/plain": [
       "adr                               2537\n",
       "adults                               0\n",
       "agent                                0\n",
       "arrival_date_day_of_month            0\n",
       "arrival_date_month                   0\n",
       "arrival_date_week_number             0\n",
       "arrival_date_year                    0\n",
       "assigned_room_type                   0\n",
       "babies                               0\n",
       "booking_changes                      0\n",
       "children                             0\n",
       "company                           2537\n",
       "country                              0\n",
       "customer_type                        0\n",
       "days_in_waiting_list                 0\n",
       "deposit_type                         0\n",
       "distribution_channel                 0\n",
       "hotel                                0\n",
       "is_canceled                          0\n",
       "is_repeated_guest                    0\n",
       "lead_time                            0\n",
       "market_segment                       0\n",
       "meal                                 0\n",
       "previous_bookings_not_canceled       0\n",
       "previous_cancellations               0\n",
       "required_card_parking_spaces         0\n",
       "reservation_status                   0\n",
       "reservation_status_date              0\n",
       "reserved_room_type                   0\n",
       "stays_in_weekend_nights              0\n",
       "stays_in_week_nights                 0\n",
       "total_of_special_requests            0\n",
       "dtype: int64"
      ]
     },
     "execution_count": 54,
     "metadata": {},
     "output_type": "execute_result"
    }
   ],
   "source": [
    "df.isnull().sum()"
   ]
  },
  {
   "cell_type": "code",
   "execution_count": 55,
   "metadata": {},
   "outputs": [
    {
     "data": {
      "text/plain": [
       "np.int64(0)"
      ]
     },
     "execution_count": 55,
     "metadata": {},
     "output_type": "execute_result"
    }
   ],
   "source": [
    "df.duplicated().sum()"
   ]
  },
  {
   "cell_type": "code",
   "execution_count": 56,
   "metadata": {},
   "outputs": [
    {
     "data": {
      "text/plain": [
       "adr                               float64\n",
       "adults                              int64\n",
       "agent                               int64\n",
       "arrival_date_day_of_month           int64\n",
       "arrival_date_month                 object\n",
       "arrival_date_week_number            int64\n",
       "arrival_date_year                   int64\n",
       "assigned_room_type                 object\n",
       "babies                              int64\n",
       "booking_changes                     int64\n",
       "children                            int64\n",
       "company                           float64\n",
       "country                            object\n",
       "customer_type                      object\n",
       "days_in_waiting_list                int64\n",
       "deposit_type                       object\n",
       "distribution_channel               object\n",
       "hotel                              object\n",
       "is_canceled                         int64\n",
       "is_repeated_guest                   int64\n",
       "lead_time                           int64\n",
       "market_segment                     object\n",
       "meal                               object\n",
       "previous_bookings_not_canceled      int64\n",
       "previous_cancellations              int64\n",
       "required_card_parking_spaces        int64\n",
       "reservation_status                 object\n",
       "reservation_status_date             int64\n",
       "reserved_room_type                 object\n",
       "stays_in_weekend_nights             int64\n",
       "stays_in_week_nights                int64\n",
       "total_of_special_requests           int64\n",
       "dtype: object"
      ]
     },
     "execution_count": 56,
     "metadata": {},
     "output_type": "execute_result"
    }
   ],
   "source": [
    "df.dtypes"
   ]
  },
  {
   "cell_type": "code",
   "execution_count": 57,
   "metadata": {},
   "outputs": [
    {
     "data": {
      "image/png": "[encoded data removed]",
      "text/plain": [
       "<Figure size 1000x600 with 1 Axes>"
      ]
     },
     "metadata": {},
     "output_type": "display_data"
    }
   ],
   "source": [
    "plt.figure(figsize=(10,6))\n",
    "sns.heatmap(df.isnull(), cmap=\"viridis\", cbar=False, yticklabels=False)\n",
    "plt.title(\"Missing Data Heatmap\")\n",
    "plt.show()"
   ]
  },
  {
   "cell_type": "code",
   "execution_count": 58,
   "metadata": {},
   "outputs": [
    {
     "name": "stdout",
     "output_type": "stream",
     "text": [
      "<class 'pandas.core.frame.DataFrame'>\n",
      "RangeIndex: 25000 entries, 0 to 24999\n",
      "Data columns (total 32 columns):\n",
      " #   Column                          Non-Null Count  Dtype  \n",
      "---  ------                          --------------  -----  \n",
      " 0   adr                             22463 non-null  float64\n",
      " 1   adults                          25000 non-null  int64  \n",
      " 2   agent                           25000 non-null  int64  \n",
      " 3   arrival_date_day_of_month       25000 non-null  int64  \n",
      " 4   arrival_date_month              25000 non-null  object \n",
      " 5   arrival_date_week_number        25000 non-null  int64  \n",
      " 6   arrival_date_year               25000 non-null  int64  \n",
      " 7   assigned_room_type              25000 non-null  object \n",
      " 8   babies                          25000 non-null  int64  \n",
      " 9   booking_changes                 25000 non-null  int64  \n",
      " 10  children                        25000 non-null  int64  \n",
      " 11  company                         22463 non-null  float64\n",
      " 12  country                         25000 non-null  object \n",
      " 13  customer_type                   25000 non-null  object \n",
      " 14  days_in_waiting_list            25000 non-null  int64  \n",
      " 15  deposit_type                    25000 non-null  object \n",
      " 16  distribution_channel            25000 non-null  object \n",
      " 17  hotel                           25000 non-null  object \n",
      " 18  is_canceled                     25000 non-null  int64  \n",
      " 19  is_repeated_guest               25000 non-null  int64  \n",
      " 20  lead_time                       25000 non-null  int64  \n",
      " 21  market_segment                  25000 non-null  object \n",
      " 22  meal                            25000 non-null  object \n",
      " 23  previous_bookings_not_canceled  25000 non-null  int64  \n",
      " 24  previous_cancellations          25000 non-null  int64  \n",
      " 25  required_card_parking_spaces    25000 non-null  int64  \n",
      " 26  reservation_status              25000 non-null  object \n",
      " 27  reservation_status_date         25000 non-null  int64  \n",
      " 28  reserved_room_type              25000 non-null  object \n",
      " 29  stays_in_weekend_nights         25000 non-null  int64  \n",
      " 30  stays_in_week_nights            25000 non-null  int64  \n",
      " 31  total_of_special_requests       25000 non-null  int64  \n",
      "dtypes: float64(2), int64(19), object(11)\n",
      "memory usage: 6.1+ MB\n"
     ]
    }
   ],
   "source": [
    "df.info()"
   ]
  },
  {
   "cell_type": "code",
   "execution_count": 59,
   "metadata": {},
   "outputs": [
    {
     "name": "stdout",
     "output_type": "stream",
     "text": [
      "<class 'pandas.core.frame.DataFrame'>\n",
      "RangeIndex: 25000 entries, 0 to 24999\n",
      "Data columns (total 32 columns):\n",
      " #   Column                          Non-Null Count  Dtype  \n",
      "---  ------                          --------------  -----  \n",
      " 0   adr                             22463 non-null  float64\n",
      " 1   adults                          25000 non-null  int64  \n",
      " 2   agent                           25000 non-null  int64  \n",
      " 3   arrival_date_day_of_month       25000 non-null  int64  \n",
      " 4   arrival_date_month              25000 non-null  object \n",
      " 5   arrival_date_week_number        25000 non-null  int64  \n",
      " 6   arrival_date_year               25000 non-null  int64  \n",
      " 7   assigned_room_type              25000 non-null  object \n",
      " 8   babies                          25000 non-null  int64  \n",
      " 9   booking_changes                 25000 non-null  int64  \n",
      " 10  children                        25000 non-null  int64  \n",
      " 11  company                         22463 non-null  float64\n",
      " 12  country                         25000 non-null  object \n",
      " 13  customer_type                   25000 non-null  object \n",
      " 14  days_in_waiting_list            25000 non-null  int64  \n",
      " 15  deposit_type                    25000 non-null  object \n",
      " 16  distribution_channel            25000 non-null  object \n",
      " 17  hotel                           25000 non-null  object \n",
      " 18  is_canceled                     25000 non-null  int64  \n",
      " 19  is_repeated_guest               25000 non-null  int64  \n",
      " 20  lead_time                       25000 non-null  int64  \n",
      " 21  market_segment                  25000 non-null  object \n",
      " 22  meal                            25000 non-null  object \n",
      " 23  previous_bookings_not_canceled  25000 non-null  int64  \n",
      " 24  previous_cancellations          25000 non-null  int64  \n",
      " 25  required_card_parking_spaces    25000 non-null  int64  \n",
      " 26  reservation_status              25000 non-null  object \n",
      " 27  reservation_status_date         25000 non-null  int64  \n",
      " 28  reserved_room_type              25000 non-null  object \n",
      " 29  stays_in_weekend_nights         25000 non-null  int64  \n",
      " 30  stays_in_week_nights            25000 non-null  int64  \n",
      " 31  total_of_special_requests       25000 non-null  int64  \n",
      "dtypes: float64(2), int64(19), object(11)\n",
      "memory usage: 6.1+ MB\n"
     ]
    }
   ],
   "source": [
    "df.info()"
   ]
  },
  {
   "cell_type": "code",
   "execution_count": 60,
   "metadata": {},
   "outputs": [
    {
     "data": {
      "text/plain": [
       "count    22463.000000\n",
       "mean       274.925900\n",
       "std        129.312421\n",
       "min         50.020000\n",
       "25%        163.925000\n",
       "50%        274.730000\n",
       "75%        385.595000\n",
       "max        499.990000\n",
       "Name: adr, dtype: float64"
      ]
     },
     "execution_count": 60,
     "metadata": {},
     "output_type": "execute_result"
    }
   ],
   "source": [
    "df['adr'].describe()"
   ]
  },
  {
   "cell_type": "code",
   "execution_count": 61,
   "metadata": {},
   "outputs": [
    {
     "data": {
      "text/plain": [
       "adults\n",
       "3    5031\n",
       "4    5025\n",
       "1    5009\n",
       "2    4981\n",
       "5    4954\n",
       "Name: count, dtype: int64"
      ]
     },
     "execution_count": 61,
     "metadata": {},
     "output_type": "execute_result"
    }
   ],
   "source": [
    "df['adults'].value_counts()"
   ]
  },
  {
   "cell_type": "code",
   "execution_count": 62,
   "metadata": {},
   "outputs": [
    {
     "data": {
      "text/plain": [
       "agent\n",
       "410    82\n",
       "325    70\n",
       "205    68\n",
       "56     67\n",
       "351    66\n",
       "       ..\n",
       "381    35\n",
       "199    35\n",
       "20     32\n",
       "316    32\n",
       "160    28\n",
       "Name: count, Length: 500, dtype: int64"
      ]
     },
     "execution_count": 62,
     "metadata": {},
     "output_type": "execute_result"
    }
   ],
   "source": [
    "df['agent'].value_counts()"
   ]
  },
  {
   "cell_type": "code",
   "execution_count": 63,
   "metadata": {},
   "outputs": [
    {
     "data": {
      "text/plain": [
       "arrival_date_day_of_month\n",
       "28    1034\n",
       "30     915\n",
       "12     859\n",
       "21     851\n",
       "3      849\n",
       "10     843\n",
       "20     841\n",
       "11     837\n",
       "24     837\n",
       "23     832\n",
       "9      825\n",
       "15     824\n",
       "1      821\n",
       "6      819\n",
       "5      819\n",
       "19     815\n",
       "8      813\n",
       "27     813\n",
       "4      808\n",
       "22     803\n",
       "18     798\n",
       "2      795\n",
       "13     787\n",
       "26     785\n",
       "17     776\n",
       "7      769\n",
       "16     767\n",
       "14     764\n",
       "25     757\n",
       "29     693\n",
       "31     451\n",
       "Name: count, dtype: int64"
      ]
     },
     "execution_count": 63,
     "metadata": {},
     "output_type": "execute_result"
    }
   ],
   "source": [
    "df['arrival_date_day_of_month'].value_counts()"
   ]
  },
  {
   "cell_type": "code",
   "execution_count": 64,
   "metadata": {},
   "outputs": [
    {
     "data": {
      "text/plain": [
       "arrival_date_month\n",
       "February         2750\n",
       "January          2699\n",
       "May              1965\n",
       "March            1937\n",
       "August           1909\n",
       "December         1889\n",
       "October          1866\n",
       "November         1854\n",
       "September        1851\n",
       "July             1847\n",
       "June             1800\n",
       "April            1794\n",
       "INVALID_MONTH     839\n",
       "Name: count, dtype: int64"
      ]
     },
     "execution_count": 64,
     "metadata": {},
     "output_type": "execute_result"
    }
   ],
   "source": [
    "df['arrival_date_month'].value_counts()"
   ]
  },
  {
   "cell_type": "code",
   "execution_count": 65,
   "metadata": {},
   "outputs": [
    {
     "data": {
      "text/plain": [
       "arrival_date_week_number\n",
       "48    547\n",
       "41    532\n",
       "4     529\n",
       "7     520\n",
       "6     516\n",
       "2     514\n",
       "12    509\n",
       "17    504\n",
       "26    503\n",
       "32    502\n",
       "29    501\n",
       "36    499\n",
       "22    499\n",
       "44    498\n",
       "35    497\n",
       "51    496\n",
       "3     495\n",
       "10    492\n",
       "52    491\n",
       "28    490\n",
       "46    488\n",
       "11    487\n",
       "42    487\n",
       "33    486\n",
       "47    484\n",
       "21    484\n",
       "18    483\n",
       "50    477\n",
       "38    473\n",
       "23    471\n",
       "37    471\n",
       "27    467\n",
       "5     465\n",
       "8     465\n",
       "31    465\n",
       "1     464\n",
       "9     464\n",
       "25    464\n",
       "39    463\n",
       "15    463\n",
       "45    461\n",
       "16    460\n",
       "49    460\n",
       "14    456\n",
       "43    455\n",
       "13    455\n",
       "24    453\n",
       "34    453\n",
       "20    446\n",
       "40    443\n",
       "30    429\n",
       "19    424\n",
       "Name: count, dtype: int64"
      ]
     },
     "execution_count": 65,
     "metadata": {},
     "output_type": "execute_result"
    }
   ],
   "source": [
    "df['arrival_date_week_number'].value_counts()"
   ]
  },
  {
   "cell_type": "code",
   "execution_count": 66,
   "metadata": {},
   "outputs": [
    {
     "data": {
      "text/plain": [
       "arrival_date_year\n",
       "2024    8493\n",
       "2023    8332\n",
       "2022    8175\n",
       "Name: count, dtype: int64"
      ]
     },
     "execution_count": 66,
     "metadata": {},
     "output_type": "execute_result"
    }
   ],
   "source": [
    "df['arrival_date_year'].value_counts()"
   ]
  },
  {
   "cell_type": "code",
   "execution_count": 67,
   "metadata": {},
   "outputs": [
    {
     "data": {
      "text/plain": [
       "assigned_room_type\n",
       "X     5701\n",
       "C     5646\n",
       "A     5586\n",
       "B     5530\n",
       "XX    2537\n",
       "Name: count, dtype: int64"
      ]
     },
     "execution_count": 67,
     "metadata": {},
     "output_type": "execute_result"
    }
   ],
   "source": [
    "df['assigned_room_type'].value_counts()"
   ]
  },
  {
   "cell_type": "code",
   "execution_count": 68,
   "metadata": {},
   "outputs": [
    {
     "data": {
      "text/plain": [
       "babies\n",
       "1    8397\n",
       "0    8382\n",
       "2    8221\n",
       "Name: count, dtype: int64"
      ]
     },
     "execution_count": 68,
     "metadata": {},
     "output_type": "execute_result"
    }
   ],
   "source": [
    "df['babies'].value_counts()"
   ]
  },
  {
   "cell_type": "code",
   "execution_count": 69,
   "metadata": {},
   "outputs": [
    {
     "data": {
      "text/plain": [
       "booking_changes\n",
       "5    4264\n",
       "3    4259\n",
       "2    4191\n",
       "4    4111\n",
       "0    4093\n",
       "1    4082\n",
       "Name: count, dtype: int64"
      ]
     },
     "execution_count": 69,
     "metadata": {},
     "output_type": "execute_result"
    }
   ],
   "source": [
    "df['booking_changes'].value_counts()"
   ]
  },
  {
   "cell_type": "code",
   "execution_count": 70,
   "metadata": {},
   "outputs": [
    {
     "data": {
      "text/plain": [
       "children\n",
       "0    6290\n",
       "2    6260\n",
       "3    6227\n",
       "1    6223\n",
       "Name: count, dtype: int64"
      ]
     },
     "execution_count": 70,
     "metadata": {},
     "output_type": "execute_result"
    }
   ],
   "source": [
    "df['children'].value_counts()"
   ]
  },
  {
   "cell_type": "code",
   "execution_count": 71,
   "metadata": {},
   "outputs": [
    {
     "data": {
      "text/plain": [
       "company\n",
       "34.0    260\n",
       "52.0    257\n",
       "2.0     257\n",
       "43.0    257\n",
       "42.0    253\n",
       "       ... \n",
       "33.0    201\n",
       "10.0    200\n",
       "98.0    192\n",
       "21.0    190\n",
       "67.0    187\n",
       "Name: count, Length: 100, dtype: int64"
      ]
     },
     "execution_count": 71,
     "metadata": {},
     "output_type": "execute_result"
    }
   ],
   "source": [
    "df['company'].value_counts()"
   ]
  },
  {
   "cell_type": "code",
   "execution_count": 72,
   "metadata": {},
   "outputs": [
    {
     "data": {
      "text/plain": [
       "country\n",
       "FRA                8118\n",
       "GBR                7971\n",
       "USA                7943\n",
       "ESP                 507\n",
       "INVALID_COUNTRY     461\n",
       "Name: count, dtype: int64"
      ]
     },
     "execution_count": 72,
     "metadata": {},
     "output_type": "execute_result"
    }
   ],
   "source": [
    "df['country'].value_counts()"
   ]
  },
  {
   "cell_type": "code",
   "execution_count": 73,
   "metadata": {},
   "outputs": [
    {
     "data": {
      "text/plain": [
       "customer_type\n",
       "Transient-party    6329\n",
       "Transient          6245\n",
       "Contract           6229\n",
       "Group              6197\n",
       "Name: count, dtype: int64"
      ]
     },
     "execution_count": 73,
     "metadata": {},
     "output_type": "execute_result"
    }
   ],
   "source": [
    "df['customer_type'].value_counts()"
   ]
  },
  {
   "cell_type": "code",
   "execution_count": 74,
   "metadata": {},
   "outputs": [
    {
     "data": {
      "text/plain": [
       "days_in_waiting_list\n",
       "3     552\n",
       "12    541\n",
       "15    540\n",
       "31    522\n",
       "38    519\n",
       "10    515\n",
       "36    513\n",
       "22    513\n",
       "32    510\n",
       "13    509\n",
       "23    509\n",
       "34    507\n",
       "24    507\n",
       "5     506\n",
       "6     506\n",
       "26    504\n",
       "39    503\n",
       "42    503\n",
       "19    503\n",
       "0     501\n",
       "27    499\n",
       "21    498\n",
       "46    497\n",
       "50    495\n",
       "17    493\n",
       "43    489\n",
       "9     485\n",
       "11    484\n",
       "44    482\n",
       "4     481\n",
       "45    481\n",
       "48    479\n",
       "35    479\n",
       "14    477\n",
       "40    475\n",
       "2     475\n",
       "47    473\n",
       "20    473\n",
       "25    472\n",
       "16    471\n",
       "8     469\n",
       "1     469\n",
       "37    467\n",
       "49    467\n",
       "29    466\n",
       "30    458\n",
       "41    457\n",
       "28    455\n",
       "18    452\n",
       "33    450\n",
       "7     449\n",
       "Name: count, dtype: int64"
      ]
     },
     "execution_count": 74,
     "metadata": {},
     "output_type": "execute_result"
    }
   ],
   "source": [
    "df['days_in_waiting_list'].value_counts()"
   ]
  },
  {
   "cell_type": "code",
   "execution_count": 75,
   "metadata": {},
   "outputs": [
    {
     "data": {
      "text/plain": [
       "deposit_type\n",
       "No Deposit    7541\n",
       "Refundable    7463\n",
       "Non Refund    7459\n",
       "UNKNOWN       2537\n",
       "Name: count, dtype: int64"
      ]
     },
     "execution_count": 75,
     "metadata": {},
     "output_type": "execute_result"
    }
   ],
   "source": [
    "df['deposit_type'].value_counts()"
   ]
  },
  {
   "cell_type": "code",
   "execution_count": 76,
   "metadata": {},
   "outputs": [
    {
     "data": {
      "text/plain": [
       "distribution_channel\n",
       "TA        8410\n",
       "Direct    8344\n",
       "TO        8246\n",
       "Name: count, dtype: int64"
      ]
     },
     "execution_count": 76,
     "metadata": {},
     "output_type": "execute_result"
    }
   ],
   "source": [
    "df['distribution_channel'].value_counts()"
   ]
  },
  {
   "cell_type": "code",
   "execution_count": 77,
   "metadata": {},
   "outputs": [
    {
     "data": {
      "text/plain": [
       "hotel\n",
       "City Hotel      12511\n",
       "Resort Hotel    12489\n",
       "Name: count, dtype: int64"
      ]
     },
     "execution_count": 77,
     "metadata": {},
     "output_type": "execute_result"
    }
   ],
   "source": [
    "df['hotel'].value_counts()"
   ]
  },
  {
   "cell_type": "code",
   "execution_count": 78,
   "metadata": {},
   "outputs": [
    {
     "data": {
      "text/plain": [
       "is_canceled\n",
       "0    12566\n",
       "1    12434\n",
       "Name: count, dtype: int64"
      ]
     },
     "execution_count": 78,
     "metadata": {},
     "output_type": "execute_result"
    }
   ],
   "source": [
    "df['is_canceled'].value_counts()"
   ]
  },
  {
   "cell_type": "code",
   "execution_count": 79,
   "metadata": {},
   "outputs": [
    {
     "data": {
      "text/plain": [
       "is_repeated_guest\n",
       "1    12604\n",
       "0    12396\n",
       "Name: count, dtype: int64"
      ]
     },
     "execution_count": 79,
     "metadata": {},
     "output_type": "execute_result"
    }
   ],
   "source": [
    "df['is_repeated_guest'].value_counts()"
   ]
  },
  {
   "cell_type": "code",
   "execution_count": 80,
   "metadata": {},
   "outputs": [
    {
     "data": {
      "text/plain": [
       "lead_time\n",
       "25     95\n",
       "130    89\n",
       "192    88\n",
       "40     87\n",
       "199    87\n",
       "       ..\n",
       "17     50\n",
       "280    50\n",
       "243    50\n",
       "318    49\n",
       "241    49\n",
       "Name: count, Length: 366, dtype: int64"
      ]
     },
     "execution_count": 80,
     "metadata": {},
     "output_type": "execute_result"
    }
   ],
   "source": [
    "df['lead_time'].value_counts()"
   ]
  },
  {
   "cell_type": "code",
   "execution_count": 81,
   "metadata": {},
   "outputs": [
    {
     "data": {
      "text/plain": [
       "market_segment\n",
       "Corporate    8361\n",
       "Online       8333\n",
       "Offline      8306\n",
       "Name: count, dtype: int64"
      ]
     },
     "execution_count": 81,
     "metadata": {},
     "output_type": "execute_result"
    }
   ],
   "source": [
    "df['market_segment'].value_counts()"
   ]
  },
  {
   "cell_type": "code",
   "execution_count": 82,
   "metadata": {},
   "outputs": [
    {
     "data": {
      "text/plain": [
       "meal\n",
       "BB    6376\n",
       "FB    6249\n",
       "HB    6221\n",
       "SC    6154\n",
       "Name: count, dtype: int64"
      ]
     },
     "execution_count": 82,
     "metadata": {},
     "output_type": "execute_result"
    }
   ],
   "source": [
    "df['meal'].value_counts()"
   ]
  },
  {
   "cell_type": "code",
   "execution_count": 83,
   "metadata": {},
   "outputs": [
    {
     "data": {
      "text/plain": [
       "previous_bookings_not_canceled\n",
       "0     2354\n",
       "7     2351\n",
       "3     2311\n",
       "1     2299\n",
       "4     2296\n",
       "8     2254\n",
       "2     2251\n",
       "6     2244\n",
       "10    2214\n",
       "9     2214\n",
       "5     2212\n",
       "Name: count, dtype: int64"
      ]
     },
     "execution_count": 83,
     "metadata": {},
     "output_type": "execute_result"
    }
   ],
   "source": [
    "df['previous_bookings_not_canceled'].value_counts()"
   ]
  },
  {
   "cell_type": "code",
   "execution_count": 84,
   "metadata": {},
   "outputs": [
    {
     "data": {
      "text/plain": [
       "previous_cancellations\n",
       "3    4257\n",
       "2    4179\n",
       "1    4164\n",
       "4    4156\n",
       "0    4128\n",
       "5    4116\n",
       "Name: count, dtype: int64"
      ]
     },
     "execution_count": 84,
     "metadata": {},
     "output_type": "execute_result"
    }
   ],
   "source": [
    "df['previous_cancellations'].value_counts()"
   ]
  },
  {
   "cell_type": "code",
   "execution_count": 85,
   "metadata": {},
   "outputs": [
    {
     "data": {
      "text/plain": [
       "required_card_parking_spaces\n",
       "2    8390\n",
       "0    8333\n",
       "1    8277\n",
       "Name: count, dtype: int64"
      ]
     },
     "execution_count": 85,
     "metadata": {},
     "output_type": "execute_result"
    }
   ],
   "source": [
    "df['required_card_parking_spaces'].value_counts()"
   ]
  },
  {
   "cell_type": "code",
   "execution_count": 86,
   "metadata": {},
   "outputs": [
    {
     "data": {
      "text/plain": [
       "reservation_status\n",
       "No-Show      8399\n",
       "Check-Out    8356\n",
       "Canceled     8245\n",
       "Name: count, dtype: int64"
      ]
     },
     "execution_count": 86,
     "metadata": {},
     "output_type": "execute_result"
    }
   ],
   "source": [
    "df['reservation_status'].value_counts()"
   ]
  },
  {
   "cell_type": "code",
   "execution_count": 87,
   "metadata": {},
   "outputs": [
    {
     "data": {
      "text/plain": [
       "reservation_status_date\n",
       "1735516800000    154\n",
       "1735430400000    153\n",
       "1735344000000    139\n",
       "1735171200000    124\n",
       "1734825600000    119\n",
       "                ... \n",
       "1646524800000      1\n",
       "1647388800000      1\n",
       "1655856000000      1\n",
       "1646956800000      1\n",
       "1666224000000      1\n",
       "Name: count, Length: 1068, dtype: int64"
      ]
     },
     "execution_count": 87,
     "metadata": {},
     "output_type": "execute_result"
    }
   ],
   "source": [
    "df['reservation_status_date'].value_counts()"
   ]
  },
  {
   "cell_type": "code",
   "execution_count": 88,
   "metadata": {},
   "outputs": [
    {
     "data": {
      "text/plain": [
       "reserved_room_type\n",
       "C    8460\n",
       "A    8311\n",
       "B    8229\n",
       "Name: count, dtype: int64"
      ]
     },
     "execution_count": 88,
     "metadata": {},
     "output_type": "execute_result"
    }
   ],
   "source": [
    "df['reserved_room_type'].value_counts()"
   ]
  },
  {
   "cell_type": "code",
   "execution_count": 89,
   "metadata": {},
   "outputs": [
    {
     "data": {
      "text/plain": [
       "stays_in_weekend_nights\n",
       "1    6315\n",
       "2    6281\n",
       "0    6279\n",
       "3    6125\n",
       "Name: count, dtype: int64"
      ]
     },
     "execution_count": 89,
     "metadata": {},
     "output_type": "execute_result"
    }
   ],
   "source": [
    "df['stays_in_weekend_nights'].value_counts()"
   ]
  },
  {
   "cell_type": "code",
   "execution_count": 90,
   "metadata": {},
   "outputs": [
    {
     "data": {
      "text/plain": [
       "stays_in_week_nights\n",
       "2    4269\n",
       "1    4179\n",
       "0    4152\n",
       "4    4152\n",
       "3    4149\n",
       "5    4099\n",
       "Name: count, dtype: int64"
      ]
     },
     "execution_count": 90,
     "metadata": {},
     "output_type": "execute_result"
    }
   ],
   "source": [
    "df['stays_in_week_nights'].value_counts()"
   ]
  },
  {
   "cell_type": "code",
   "execution_count": 91,
   "metadata": {},
   "outputs": [
    {
     "data": {
      "text/plain": [
       "total_of_special_requests\n",
       "1    6373\n",
       "2    6264\n",
       "0    6223\n",
       "3    6140\n",
       "Name: count, dtype: int64"
      ]
     },
     "execution_count": 91,
     "metadata": {},
     "output_type": "execute_result"
    }
   ],
   "source": [
    "df['total_of_special_requests'].value_counts()"
   ]
  },
  {
   "cell_type": "markdown",
   "metadata": {},
   "source": [
    "Correlación entre columnas numéricas"
   ]
  },
  {
   "cell_type": "code",
   "execution_count": 92,
   "metadata": {},
   "outputs": [
    {
     "data": {
      "image/png": "[encoded data removed]",
      "text/plain": [
       "<Figure size 1200x600 with 2 Axes>"
      ]
     },
     "metadata": {},
     "output_type": "display_data"
    }
   ],
   "source": [
    "plt.figure(figsize=(12, 6))\n",
    "sns.heatmap(df.select_dtypes(include=['number']).corr(), annot=True, cmap='coolwarm', fmt=\".2f\")\n",
    "plt.title(\"Correlation Matrix\")\n",
    "plt.show()"
   ]
  }
 ],
 "metadata": {
  "kernelspec": {
   "display_name": "Python 3",
   "language": "python",
   "name": "python3"
  },
  "language_info": {
   "codemirror_mode": {
    "name": "ipython",
    "version": 3
   },
   "file_extension": ".py",
   "mimetype": "text/x-python",
   "name": "python",
   "nbconvert_exporter": "python",
   "pygments_lexer": "ipython3",
   "version": "3.13.2"
  }
 },
 "nbformat": 4,
 "nbformat_minor": 2
}
